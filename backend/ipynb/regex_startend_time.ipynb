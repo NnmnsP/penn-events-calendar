{
 "cells": [
  {
   "cell_type": "code",
   "execution_count": 1,
   "metadata": {},
   "outputs": [],
   "source": [
    "import pandas as pd\n",
    "import re\n",
    "from dateutil import parser\n",
    "from datetime import datetime, timedelta"
   ]
  },
  {
   "cell_type": "code",
   "execution_count": 2,
   "metadata": {},
   "outputs": [],
   "source": [
    "with open('../data/events.csv') as f:\n",
    "    data = pd.read_csv(f)\n",
    "    starttime = data['starttime']\n",
    "    endtime = data['endtime']"
   ]
  },
  {
   "cell_type": "code",
   "execution_count": 3,
   "metadata": {},
   "outputs": [],
   "source": [
    "def sub_pattern(time_list, compiled_pats, is_endtime=False):\n",
    "    collector = list()\n",
    "    \n",
    "    for st in time_list:\n",
    "        if not pd.isnull(st) and st != '':\n",
    "            check = list(map(lambda x: x.sub(r'\\1', st) if x.match(st) else None, pats))\n",
    "            if any(check):\n",
    "                subbed = next(item for item in check if item is not None)\n",
    "                collector.append(subbed)\n",
    "            else:\n",
    "                if len(compiled_pats) == 1:\n",
    "                    collector.append(None)\n",
    "                else:\n",
    "                    collector.append('allday')\n",
    "        else:\n",
    "            if not is_endtime:\n",
    "                if len(compiled_pats) == 1:\n",
    "                    collector.append(None)\n",
    "                else:\n",
    "                    collector.append('allday')\n",
    "            else:\n",
    "                collector.append(None)\n",
    "            \n",
    "    return collector\n",
    "\n",
    "# TODO\n",
    "def cleansing(subbed_list):\n",
    "    subbed_list = [l or '' for l in subbed_list]\n",
    "    artifacts_removed = list(map(lambda x: x.replace(' ', '').replace('.', '').lower(), subbed_list))\n",
    "    dt_list = [parser.parse(elem).time() if elem != 'allday' else elem for elem in artifacts_removed]\n",
    "    return dt_list"
   ]
  },
  {
   "cell_type": "code",
   "execution_count": 4,
   "metadata": {},
   "outputs": [],
   "source": [
    "# pattern for starttime and endtime \n",
    "patterns = [\n",
    "    r'^[a-zA-Z]+, [a-zA-Z]+ [0-9]{1,2}, [0-9]{4} - (.*)',\n",
    "    r'^([0-9]{1,2}:[0-9]{1,2}\\s?[apmAPM\\.]{0,4}).*',\n",
    "    r'^([0-9]{1,2}\\s?[apmAPM\\.]{1,4}).*',\n",
    "]\n",
    "\n",
    "# compile to put as argument\n",
    "pats = [re.compile(pat) for pat in patterns]\n",
    "\n",
    "starttime_subbed = sub_pattern(starttime, compiled_pats=pats)\n",
    "endtime_subbed = sub_pattern(endtime, compiled_pats=pats, is_endtime=True)\n",
    "\n",
    "# pattern for extracting endtime out of starttime\n",
    "patterns = [\n",
    "    r'^[0-9]{1,2}:[0-9]{1,2}\\s?[apmAPM\\.]{0,4}\\s?-\\s?([0-9]{1,2}:[0-9]{1,2}\\s?[apmAPM\\.]{0,4})'\n",
    "]\n",
    "\n",
    "# compile to put as argument\n",
    "pats = [re.compile(pat) for pat in patterns]\n",
    "\n",
    "endtime_in_starttime_subbed = sub_pattern(starttime, compiled_pats=pats)\n",
    "\n",
    "time_showed = []\n",
    "for ts, te, k in zip(starttime_subbed, endtime_subbed, endtime_in_starttime_subbed):\n",
    "    if not pd.isnull(ts) and ts is not 'allday' and pd.isnull(te):\n",
    "        te = (parser.parse(ts) + timedelta(hours=1)).strftime(\"%I:%M %p\")\n",
    "        time_showed.append((ts, te, k))\n",
    "    elif ts == 'allday' and pd.isnull(te):\n",
    "        te = 'allday'\n",
    "        time_showed.append((ts, te, k))\n",
    "    elif pd.isnull(ts) and pd.isnull(te):\n",
    "        time_showed.append((None, None, k))\n",
    "    elif '-' in ts:\n",
    "        ts, te = ts.split('-')\n",
    "        time_showed.append((ts, te, k))\n",
    "    else:\n",
    "        time_showed.append((ts, te, k))\n",
    "    \n",
    "# TODO\n",
    "# if endtime is nan but starttime is not, endtime = starttime + 1 hour\n",
    "# if endtime is nan but starttime is All day, endtime = All day\n",
    "# if endtime is nan and starttime is nan, endtime = null, starttime = null\n",
    "# if endtime is nan but starttime is XX:XX - YY:YY, endtime = YY:YY //"
   ]
  },
  {
   "cell_type": "code",
   "execution_count": 5,
   "metadata": {},
   "outputs": [
    {
     "data": {
      "text/plain": [
       "[('11:30 AM', '12:30 PM', None),\n",
       " ('11:30 AM', '12:30 PM', None),\n",
       " ('11:30 AM', '12:30 PM', None),\n",
       " ('11:30 AM', '12:30 PM', None),\n",
       " ('11:30 AM', '12:30 PM', None)]"
      ]
     },
     "execution_count": 5,
     "metadata": {},
     "output_type": "execute_result"
    }
   ],
   "source": [
    "time_showed[0:5]"
   ]
  },
  {
   "cell_type": "code",
   "execution_count": null,
   "metadata": {},
   "outputs": [],
   "source": []
  }
 ],
 "metadata": {
  "kernelspec": {
   "display_name": "Python 3",
   "language": "python",
   "name": "python3"
  },
  "language_info": {
   "codemirror_mode": {
    "name": "ipython",
    "version": 3
   },
   "file_extension": ".py",
   "mimetype": "text/x-python",
   "name": "python",
   "nbconvert_exporter": "python",
   "pygments_lexer": "ipython3",
   "version": "3.6.8"
  }
 },
 "nbformat": 4,
 "nbformat_minor": 2
}
